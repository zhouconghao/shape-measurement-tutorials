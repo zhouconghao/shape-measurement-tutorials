{
 "cells": [
  {
   "cell_type": "markdown",
   "id": "030f1314",
   "metadata": {},
   "source": [
    "# Shape Measurement 101\n",
    "\n",
    "This notebook has the first part of a small-ish tutorial on galaxy shape measurement. The goals of this tutorial are as follows\n",
    "\n",
    "1. Become familiar with the concept of what we mean by a galaxy's shape.\n",
    "2. Form an intuitive understand of what happens to an object's shape when it is sheared and then observed with a telescope.\n",
    "3. Be able to use the `galsim` package to simulate this process.\n",
    "\n",
    "In order to run the code in this tutorial, you will need the following packages installed locally\n",
    "\n",
    " - `galsim`\n",
    " - `numpy`\n",
    " - `matplotlib`\n",
    " \n",
    "I suggest using `conda`. You can run the command\n",
    "\n",
    "```\n",
    "conda install galsim numpy metaplotlib\n",
    "```\n",
    "\n",
    "in your environment to get things going.\n"
   ]
  },
  {
   "cell_type": "markdown",
   "id": "73d866d4",
   "metadata": {},
   "source": [
    "## A. Galaxy Surface Brightness Profiles\n",
    "\n",
    "They key quantity we'll be working with in this tutorial is the *surface brightness* of a galaxy. This quantity can roughly be thought of as the value of an image of the galaxy as a function of the position in the galaxy. (There are of course more technical definitions but this definition is good enough for now.) We will call this quantity $I(x,y)$.\n",
    "\n",
    "Here is a small snippet of code that draws a \"galaxy\" whose surface brightness profile is 1 if the distance from the center is less than 0.5 and zero otherwise."
   ]
  },
  {
   "cell_type": "code",
   "execution_count": 3,
   "id": "85b0bc64",
   "metadata": {},
   "outputs": [],
   "source": [
    "import numpy as np\n",
    "import matplotlib.pyplot as plt\n",
    "\n",
    "%matplotlib inline"
   ]
  },
  {
   "cell_type": "code",
   "execution_count": 6,
   "id": "17ee6a3e",
   "metadata": {
    "scrolled": false
   },
   "outputs": [
    {
     "data": {
      "text/plain": [
       "Text(0, 0.5, 'y')"
      ]
     },
     "execution_count": 6,
     "metadata": {},
     "output_type": "execute_result"
    },
    {
     "data": {
      "image/png": "[encoded data removed]",
      "text/plain": [
       "<Figure size 432x288 with 1 Axes>"
      ]
     },
     "metadata": {
      "needs_background": "light"
     },
     "output_type": "display_data"
    }
   ],
   "source": [
    "# this is the array of pixel edges so that pixel i\n",
    "# zero goes from edges[i] to edges[i+1]\n",
    "edges = np.linspace(-1, 1, 257)\n",
    "\n",
    "# we use pixel centers to compute the profile and draw images\n",
    "# the indexing edges[1:] removes the first element of the array\n",
    "# the indexing edges[:-1] removes the last element of the array\n",
    "# thus we are averaging the edges of each pixel to get the center\n",
    "vals = (edges[:-1] + edges[1:])/2\n",
    "\n",
    "# this command constructs 2d arrays of the x and y values across the image\n",
    "# it is very useful!\n",
    "x, y = np.meshgrid(vals, vals)\n",
    "\n",
    "# now we compute the profile \n",
    "# and set it to 1 if the radius is less than 0.5\n",
    "im = np.zeros((256, 256))\n",
    "r = np.sqrt(x*x + y*y)\n",
    "msk = r < 0.5\n",
    "im[msk] = 1\n",
    "\n",
    "# this set of commands makes a plot of the object\n",
    "fig, axs = plt.subplots()\n",
    "axs.pcolormesh(edges, edges, im, cmap='viridis')\n",
    "axs.grid(False)\n",
    "axs.set_aspect(1.0)\n",
    "axs.set_xlabel(\"x\")\n",
    "axs.set_ylabel(\"y\")"
   ]
  },
  {
   "cell_type": "markdown",
   "id": "4178111e",
   "metadata": {},
   "source": [
    "## B. How do we define the shape of a galaxy?\n",
    "\n",
    "There are a lot of ways to think about this question, but let's start with the simplest and one of the most common, weighted moments. We define the *moments* of the surface brightness profile as:\n",
    "\n",
    "$$\n",
    "\\langle M_x\\rangle = \\frac{\\int I(x,y) x}{\\int I(x,y)}\n",
    "$$\n",
    "\n",
    "\n",
    "$$\n",
    "\\langle M_y\\rangle = \\frac{\\int I(x,y) y}{\\int I(x,y)}\n",
    "$$\n",
    "\n",
    "\n",
    "$$\n",
    "\\langle M_{xx}\\rangle = \\frac{\\int I(x,y) (x - M_x)^2}{\\int I(x,y)}\n",
    "$$\n",
    "\n",
    "\n",
    "$$\n",
    "\\langle M_{xy}\\rangle = \\frac{\\int I(x,y) (x - M_x)(y-M_y)}{\\int I(x,y)}\n",
    "$$\n",
    "\n",
    "\n",
    "$$\n",
    "\\langle M_{yy}\\rangle = \\frac{\\int I(x,y) (y - M_y)^2}{\\int I(x,y)}\n",
    "$$\n",
    "\n",
    "For those of you who have studied statistics, you'll recognize these as the mean ($M_x$, $M_y$), variance ($M_{xx}$, $M_{yy}$), and covariance ($M_{xy}$). However, you do not need to be deeply familiar with these concepts in order to continue with this tutorial."
   ]
  },
  {
   "cell_type": "markdown",
   "id": "e71c67f7",
   "metadata": {},
   "source": [
    "### Exercise 1: Compute the Moments!\n",
    "\n",
    "In this exercise, we are going to compute the moments of simplified version of a Gaussian surface brightness profile. This simplified profile is\n",
    "\n",
    "$$\n",
    "I(x,y) \\propto \\exp\\left(-\\frac{(x - \\mu_x)^2}{2\\sigma_x^2} - \\frac{(y - \\mu_y)^2}{2\\sigma_y^2}\\right)\n",
    "$$\n",
    "\n",
    "The exercise is to do the following.\n",
    "\n",
    "1. Write a function to compute the profile at a given position.\n",
    "2. Use `matplotlib` to visualize that profile.\n",
    "3. Compute the moments of the profile.\n",
    "\n",
    "Use values $\\sigma_x = 0.5$, $\\sigma_y = 0.25$, $\\mu_x=-0.2$, $\\mu_y=0.3$. \n",
    "\n",
    "Here are some questions to answer:\n",
    "\n",
    "1. As you change $\\sigma_x$ and $\\sigma_y$, what relationship do you notice between the moments and those values?\n",
    "2. As you change $\\mu_x$ and $\\mu_y$, what relationship do you notice between the moments and those values?\n",
    "3. What is the behavior of $M_{xy}$ and why do you think it does that?\n",
    "\n",
    "To help get you started, I have put some code below that sets up the coordinates and 2d arrays of them for doing computations and plots. You do not have to use these, but you may find them helpful."
   ]
  },
  {
   "cell_type": "markdown",
   "id": "f0a69399",
   "metadata": {},
   "source": [
    "Also, remember that an integral $V = \\int_L^H dx f(x)$ can be estimated from a sum:\n",
    "\n",
    "$$\n",
    "V \\approx \\sum_i f(x_i) \\Delta x\n",
    "$$\n",
    "\n",
    "where the $x_i$ have been defined on a suitable grid of points from $L$ to $H$ with spacing $\\Delta x$."
   ]
  },
  {
   "cell_type": "markdown",
   "id": "106629c9",
   "metadata": {},
   "source": [
    "$M_{p q}=\\int_{-\\infty}^{\\infty} \\int_{-\\infty}^{\\infty} x^{p} y^{q} f(x, y) d x d y$"
   ]
  },
  {
   "cell_type": "code",
   "execution_count": 77,
   "id": "540f27d4",
   "metadata": {},
   "outputs": [],
   "source": [
    "x_min = -2.0\n",
    "x_max = 2.0\n",
    "y_min = -2.0\n",
    "y_max = 2.0\n",
    "\n",
    "edges = np.linspace(x_min, x_max, 513)\n",
    "vals = (edges[:-1] + edges[1:])/2\n",
    "x, y = np.meshgrid(vals, vals)\n",
    "\n",
    "mu_x, sigma_x = -0.2, 0.5\n",
    "mu_y, sigma_y = 0.3, 0.25\n",
    "\n",
    "def bi_gaussian(x,y,mu_x,sigma_x,mu_y,sigma_y):\n",
    "    return np.exp(-(x-mu_x)**2/(2*sigma_x**2) - (y-mu_y)**2/(2*sigma_y**2))"
   ]
  },
  {
   "cell_type": "code",
   "execution_count": 78,
   "id": "483eccaf",
   "metadata": {},
   "outputs": [],
   "source": [
    "im = bi_gaussian(x,y,mu_x,sigma_x,mu_y,sigma_y)"
   ]
  },
  {
   "cell_type": "code",
   "execution_count": 80,
   "id": "0ad1ed1b",
   "metadata": {},
   "outputs": [
    {
     "name": "stdout",
     "output_type": "stream",
     "text": [
      "[[1.28658468e+04 2.95834150e+06 7.32810460e+08]\n",
      " [3.78127236e+06 8.69456568e+08 2.15372994e+11]\n",
      " [1.12449057e+09 2.58562627e+11 6.40485209e+13]]\n"
     ]
    }
   ],
   "source": [
    "import skimage\n",
    "M = skimage.measure.moments(im,order=2)\n",
    "print(M)\n",
    "\n",
    "def get_moments(M):\n",
    "    M_x, M_y = M[1,0]/M[0,0], M[0,1]/M[0,0]\n",
    "    M_xx, M_xy, M_yy = M[2,0]/M[0,0], M[1,1]/M[0,0], M[0,2]/M[0,0]\n",
    "    return(M_x,M_y,M_xx,M_xy,M_yy)\n",
    "\n",
    "M_x, M_y, M_xx, M_xy, M_yy = get_moments(M)"
   ]
  },
  {
   "cell_type": "code",
   "execution_count": 76,
   "id": "1b20c4be",
   "metadata": {},
   "outputs": [
    {
     "data": {
      "text/plain": [
       "<matplotlib.colorbar.Colorbar at 0x15551bac9e20>"
      ]
     },
     "execution_count": 76,
     "metadata": {},
     "output_type": "execute_result"
    },
    {
     "data": {
      "image/png": "[encoded data removed]",
      "text/plain": [
       "<Figure size 432x288 with 2 Axes>"
      ]
     },
     "metadata": {
      "needs_background": "light"
     },
     "output_type": "display_data"
    }
   ],
   "source": [
    "# this set of commands makes a plot of the object\n",
    "fig, axs = plt.subplots()\n",
    "cf = axs.pcolormesh(edges, edges, np.log(im), cmap='viridis')\n",
    "axs.grid(False)\n",
    "axs.set_aspect(1.0)\n",
    "axs.set_xlabel(\"x\")\n",
    "axs.set_ylabel(\"y\")\n",
    "plt.scatter(mu_x,mu_y,color='r')\n",
    "fig.colorbar(cf,ax=axs)"
   ]
  },
  {
   "cell_type": "code",
   "execution_count": null,
   "id": "8a6fdb03",
   "metadata": {},
   "outputs": [],
   "source": [
    "mu_x_range = np.arange(-1,1,10)\n"
   ]
  },
  {
   "cell_type": "markdown",
   "id": "d1be988e",
   "metadata": {},
   "source": [
    "## C. Using `galsim`\n",
    "\n",
    "It turns out, as you may have seen from the previous exercise, that coding up surface brightness profiles with parameters and making grids of positions for visualizing them is quite tedious. There must be a better way!\n",
    "\n",
    "For us, this better way is a package called `galsim`. I am going to show you how to do simple things in `galsim`.\n",
    "\n",
    "First, let's make an object with a Gaussian surface brightness profile in `galsim`."
   ]
  },
  {
   "cell_type": "code",
   "execution_count": null,
   "id": "b02bf9f4",
   "metadata": {},
   "outputs": [],
   "source": [
    "import galsim\n",
    "\n",
    "obj = galsim.Gaussian(sigma=1)"
   ]
  },
  {
   "cell_type": "markdown",
   "id": "deceaf55",
   "metadata": {},
   "source": [
    "Here we have specified the width of the Gaussian to be 1.0 (`sigma=1`). In `galsim`, sufrace brightness profiles tend to be symmetric so in fact we have specified `sigma` for both the x- and y-axis here.\n",
    "\n",
    "Notice that this object has a bunch of properties and methods you can use:"
   ]
  },
  {
   "cell_type": "code",
   "execution_count": null,
   "id": "924a21e9",
   "metadata": {},
   "outputs": [],
   "source": [
    "# the python built-in function `dir` is super helpful\n",
    "# it shows you all of the things attached to your object (these things are called attributes)\n",
    "# here are some conventions to watch out for\n",
    "#\n",
    "#  - attributes that start with two underscores `__` usually have special behavior defined by the python language\n",
    "#  - attributes that start with one underscore `_` are usually meant to be private to the object you are using\n",
    "#    This means generally you should not ever access them or use them in any way.\n",
    "\n",
    "print(dir(obj))"
   ]
  },
  {
   "cell_type": "markdown",
   "id": "1fafcbb4",
   "metadata": {},
   "source": [
    "To access one of these attributes, you simply put a period after your object and then the attributes name:"
   ]
  },
  {
   "cell_type": "code",
   "execution_count": null,
   "id": "561d737d",
   "metadata": {},
   "outputs": [],
   "source": [
    "print(obj.sigma)"
   ]
  },
  {
   "cell_type": "markdown",
   "id": "eee60041",
   "metadata": {},
   "source": [
    "We'll come back to some of these later.\n",
    "\n",
    "In `galsim`, objects like `obj` above are abstract representations of a surface brightness profile. What this kind of weird statement means in practice is that you can do a lot of manipulations on the object (e.g., adding them together, etc.) and `galsim` tracks those operations, generating new objects for you along the way. Finally, when you need an image of your object, then `galsim` does the bulk of the computational work.\n",
    "\n",
    "To draw an image of an object, you have to specify what kind of coordinate grid to use. There are a multitude of ways to specify this so we are going to stick with a single convention: We will always use square images with a fixed, equal size for the grid spacing in each direction. Drawing an object with `galsim` according to this convention is done as follows:"
   ]
  },
  {
   "cell_type": "code",
   "execution_count": null,
   "id": "473f9498",
   "metadata": {},
   "outputs": [],
   "source": [
    "im = obj.drawImage(nx=53, ny=53, scale=0.25)"
   ]
  },
  {
   "cell_type": "markdown",
   "id": "c4ab57c8",
   "metadata": {},
   "source": [
    "Here we have specified 53 pixels on the x-axis (`nx=53`), 53 pixels on the y-axis (`ny=53`), and a grid spacing (also known as the pixel scale in `galsim`) of 0.25 (`scale=0.25`). \n",
    "\n",
    "Notice that the Python type of the returned image `im` is not a `numpy` array like you got above:"
   ]
  },
  {
   "cell_type": "code",
   "execution_count": null,
   "id": "48291fdd",
   "metadata": {},
   "outputs": [],
   "source": [
    "print(type(im))"
   ]
  },
  {
   "cell_type": "markdown",
   "id": "bc67efe8",
   "metadata": {},
   "source": [
    "`galsim` has its own image type which can be very useful for certain operations. However, many times one simply wants the underlying `numpy` array. This array can be accessed via the `.array` attribute:"
   ]
  },
  {
   "cell_type": "code",
   "execution_count": null,
   "id": "f3e0eef5",
   "metadata": {},
   "outputs": [],
   "source": [
    "print(type(im.array))"
   ]
  },
  {
   "cell_type": "markdown",
   "id": "d70fb5a8",
   "metadata": {},
   "source": [
    "### Exercise 2: Drawing objects with `galsim`\n",
    "\n",
    "With all of this information in hand, we can now get to the actual exercise!\n",
    "\n",
    "1. Draw a Gaussian object with `galsim` using a scale of 0.1, `sigma=0.2`, and an image size `nx=ny=7`. Make a plot of the image.\n",
    "2. Do the same as 1, but set the image size to `nx=ny=8`.\n",
    "3. According to the code, `galsim` is supposed to be drawing the same object with the same grid size. Compare the plots from 1 and 2. What do you notice is different about the images? Why do you think this is the case?\n",
    "4. For odd-sized images, what is the formula that relates where the center of the object lands to the size of the image?"
   ]
  },
  {
   "cell_type": "code",
   "execution_count": null,
   "id": "744e41e1",
   "metadata": {},
   "outputs": [],
   "source": [
    "# do your work here!\n"
   ]
  },
  {
   "cell_type": "markdown",
   "id": "ed4d09e7",
   "metadata": {},
   "source": [
    "Given the results above, it is clear that even and odd sized images can cause counter intuitive differences in how `galsim` draws (or sometimes we say \"renders\") the objects surface brightness profile. To avoid ambiguities, we will stick with odd-sized images (e.g., 53 but not 52) in the rest of the tutorial."
   ]
  },
  {
   "cell_type": "markdown",
   "id": "79711cf6",
   "metadata": {},
   "source": [
    "### Exercise 3: Compute the moments of an object drawn with `galsim`\n",
    "\n",
    "Let's combine the two skills we learned above to simulate an object with `galsim` and then compute the moments. This task will require us to understand what `(x,y)` values to assign to the different image locations from galsim. There are many ways we could go about this, but let's stick to something simple. Every `galsim` image has a `bounds` attribute:"
   ]
  },
  {
   "cell_type": "code",
   "execution_count": null,
   "id": "911d1e99",
   "metadata": {},
   "outputs": [],
   "source": [
    "obj = galsim.Gaussian(sigma=1)\n",
    "im = obj.drawImage(nx=53, ny=53, scale=0.25)\n",
    "\n",
    "print(dir(im.bounds))"
   ]
  },
  {
   "cell_type": "markdown",
   "id": "2af4bbef",
   "metadata": {},
   "source": [
    "From the bounds attribute, we can extract the pixel grid locations:"
   ]
  },
  {
   "cell_type": "code",
   "execution_count": null,
   "id": "6640f8e9",
   "metadata": {},
   "outputs": [],
   "source": [
    "print(\"xmin:\", im.bounds.xmin)\n",
    "print(\"xmax:\", im.bounds.xmax)\n",
    "print(\"ymin:\", im.bounds.ymin)\n",
    "print(\"ymax:\", im.bounds.ymax)"
   ]
  },
  {
   "cell_type": "markdown",
   "id": "57949caf",
   "metadata": {},
   "source": [
    "The pixel grid locations are the integer indexes of the pixels as one would count them. These indexes are of course different from the $(x,y)$coordinate values. Interestingly, `galsim` starts the pixel grid at 1 instead of starting things at 0 like python. In order to keep things consistent with python, we are always going to subtract 1 from the `galsim` pixel grid locations.\n",
    "\n",
    "With this information, we can now generate the pixel grid locations for the image:"
   ]
  },
  {
   "cell_type": "code",
   "execution_count": null,
   "id": "5cf9d469",
   "metadata": {},
   "outputs": [],
   "source": [
    "xmin_zero = im.bounds.xmin - 1\n",
    "xmax_zero = im.bounds.xmax - 1\n",
    "ymin_zero = im.bounds.ymin - 1\n",
    "ymax_zero = im.bounds.ymax - 1\n",
    "\n",
    "x, y = np.meshgrid(np.arange(xmin_zero, xmax_zero+1), np.arange(ymin_zero, ymax_zero+1))"
   ]
  },
  {
   "cell_type": "markdown",
   "id": "de446bb2",
   "metadata": {},
   "source": [
    "Here note that we had to add 1 to the max value since `np.arange` follows the python convention of indexes from `i` to `j` spanning the values `i`, `i+1`, `i+2`, ..., `j-1`. We can verify this by examining the shape and the values of our arrays:"
   ]
  },
  {
   "cell_type": "code",
   "execution_count": null,
   "id": "d058cd59",
   "metadata": {},
   "outputs": [],
   "source": [
    "print(x.shape, y.shape)  # both are 53x53 which is the size of the image"
   ]
  },
  {
   "cell_type": "code",
   "execution_count": null,
   "id": "37bb000a",
   "metadata": {},
   "outputs": [],
   "source": [
    "print((x.min(), x.max()), (y.min(), y.max()))  # both are (0, 52) since galsim went from 1 to 53 and we subtracted 1"
   ]
  },
  {
   "cell_type": "markdown",
   "id": "e7e46acd",
   "metadata": {},
   "source": [
    "Finally, we have generated the pixel grid locations, but not the $(x,y)$ coordinates. To do that, we need to account for the grid spacing by multiplying:"
   ]
  },
  {
   "cell_type": "code",
   "execution_count": null,
   "id": "64217b24",
   "metadata": {},
   "outputs": [],
   "source": [
    "x = x * 0.25  # this factor is what we passed for `scale` when drawing the image above\n",
    "y = y * 0.25"
   ]
  },
  {
   "cell_type": "markdown",
   "id": "fbeca524",
   "metadata": {},
   "source": [
    "We can print the range again to see the final results:"
   ]
  },
  {
   "cell_type": "code",
   "execution_count": null,
   "id": "b4196a67",
   "metadata": {},
   "outputs": [],
   "source": [
    "print((x.min(), x.max()), (y.min(), y.max()))"
   ]
  },
  {
   "cell_type": "markdown",
   "id": "3782ed23",
   "metadata": {},
   "source": [
    "With this information, do the following:\n",
    "\n",
    "1. Use Galsim to draw a Gaussian via the following command `obj = galsim.Gaussian(sigma=2).shear(g1=0.1, g2=0.1)` and then draw this object on a grid that is 513 pixels on each side with a scale of 0.1.\n",
    "2. Use the example above to compute the coordinates of the image pixels.\n",
    "3. Use your new knowledge of object moments to compute all five of the moments defined previously.\n",
    "4. Make a plot of the image. In this case, it may be easier to use the function `axs.imshow` since we have not computed the pixel coordinate edges. This command will always produce a plot in pixel grid locations.\n",
    "5. What is different about the moments compared to the object we drew previously in terms of how the object looks and $M_{xy}$?"
   ]
  },
  {
   "cell_type": "markdown",
   "id": "875a1998",
   "metadata": {},
   "source": [
    "## D. Galaxies, Shears, and Telescopes\n",
    "\n",
    "Stepping back a bit, let's learn about how our Universe relates to the things we did above. \n",
    "\n",
    "**galaxies**: We introduced the concept of an object's surface brightness profile above, defined as the value of an image of the object at a given location $(x,y)$. Of course, in our Universe, objects don't actually follow the simple Gaussian profile we used above. Instead, galaxies form out of the gravitational collapse of dark matter and baryons into dark matter halos with galaxies at their centers. This process is exceedingly complex. For our work, instead of using the true surface brightness profile of a galaxy, we use simplified approximations, like a Gaussian profile. These approximations help us in multiple ways, including making our computations faster in some cases and making the results of our computations easier to understand. So, TL;DR, the surface brightness profiles we used above and below are simplified models for true galaxies that help make science easier to do. The issue of how we ensure our methods will work on galaxies the universe generates is a serious one, but something we won't discuss here.\n",
    "\n",
    "**shears**: Now that we know what a surface brightness profile is and we have some moments computed, we are ready to think about shear. A *shear* is a specific mathematical transformation of a galaxy surface brightness profile. (Instead of coding this transformation up ourselves, we are going to have `galsim` do this for us. Yay!) This operation is highly relevant to our own Universe due to an effect called *weak gravitational lensing*. It turns out one of the foundational predictions of General Relativity is that the paths of light rays change in response to the presence of matter (e.g., us and everything else) near them. Weak gravitational lensing is this effect computed from all of the matter in the Universe along the line-of-sight from us to distant galaxies observed by telescopes. Fractionally, this effect is indeed very weak, causing a relative change of only 1% in the moments of the surface brightness profiles of distant galaxies. The goal of a shape measurement method is to extract the amplitude of this shear, which carries information about the matter along the line of sight and other properties of the Universe.\n",
    "\n",
    "**telescopes**: After the light from a galaxy has passed through various structures along the line-of-sight, it enters our atmosphere and then the telescope. The combination of the atmosphere and the telescope blurs the image of the galaxy. We characterize this blurring through a quantity called the *point-spread function* or PSF. The PSF describes how light from a single, point-like object is spread out over the image. A galaxy is an extended object, which you can roughly think of as composed of an infinite number of points of light coming towards. To predict what the galaxy will look like after the atmosphere and telescope, we can take the surface brightness at each point on the galaxy, spread it out according to the PSF, and then deposit that spread out light onto our image. Mathematically, this operation is called a *convolution* and we say that the galaxy has been *convolved with the PSF*. Let's not worry about the mathematical details of convolutions for now. Instead, we will let `galsim` do them for us!\n",
    "\n",
    "### Convolving a Galaxy with the PSF using `galsim`\n",
    "\n",
    "Let's learn how to use `galsim` to convolve a galaxy with the PSF. First we make the galaxy and the psf:"
   ]
  },
  {
   "cell_type": "code",
   "execution_count": null,
   "id": "0bbbea84",
   "metadata": {},
   "outputs": [],
   "source": [
    "gal = galsim.Gaussian(sigma=1)\n",
    "psf = galsim.Gaussian(sigma=0.5)"
   ]
  },
  {
   "cell_type": "markdown",
   "id": "4a69b284",
   "metadata": {},
   "source": [
    "Now we can use the `galsim.Convolve` object to build the convolution like this:"
   ]
  },
  {
   "cell_type": "code",
   "execution_count": null,
   "id": "a6af9954",
   "metadata": {},
   "outputs": [],
   "source": [
    "observed_gal = galsim.Convolve(gal, psf)"
   ]
  },
  {
   "cell_type": "markdown",
   "id": "9054586f",
   "metadata": {},
   "source": [
    "Importantly, the convolved object has many of the same attributes as the original objects, including `.drawImage`."
   ]
  },
  {
   "cell_type": "code",
   "execution_count": null,
   "id": "3a614cc5",
   "metadata": {},
   "outputs": [],
   "source": [
    "print(dir(observed_gal))"
   ]
  },
  {
   "cell_type": "markdown",
   "id": "c0310382",
   "metadata": {},
   "source": [
    "### Exercise 4: Understanding Convolutions\n",
    "\n",
    "For this exercise do the following:\n",
    "\n",
    "1. Using a pixel grid with 53 pixels on each side and scale of 0.25, plot the PSF, galaxy and the convolution of the two. Use the objects in the example convolution we just discussed.\n",
    "2. Measure the moments of each of the PSF, galaxy, and the convolution.\n",
    "3. Plot the moment $M_{xx}$ of the convolved object as a function of the moment $M_{xx}$ of the PSF as you change the PSF size `sigma` from 0.5 to 1.0. What is the relationship between the two?\n",
    "4. Repeat 3 but this time changing the size `sigma` of the galaxy from 1 to 2 and measuring $M_{xx}$ of the convolved object with respect to the moment $M_{xx}$ of the input galaxy. Before you make the plot, write down what do you expect to see and why?\n",
    "5. Repeat 1 through 4, but this time using `gal = galsim.Exponential(half_light_radius=1)` and varying the `half_light_radius` instead of `sigma`. Do you see the same relationship? Why can you conclude about how this might approximately work in general?"
   ]
  },
  {
   "cell_type": "markdown",
   "id": "27a8d698",
   "metadata": {},
   "source": [
    "#### Great job! If you've gotten here you can now simulate and draw useful combinations of objects and PSFs for weak lensing. Yay!"
   ]
  },
  {
   "cell_type": "code",
   "execution_count": null,
   "id": "3fe4c3b9",
   "metadata": {},
   "outputs": [],
   "source": []
  }
 ],
 "metadata": {
  "kernelspec": {
   "display_name": "Python 3.9.12 ('lsst_shear')",
   "language": "python",
   "name": "python3"
  },
  "language_info": {
   "codemirror_mode": {
    "name": "ipython",
    "version": 3
   },
   "file_extension": ".py",
   "mimetype": "text/x-python",
   "name": "python",
   "nbconvert_exporter": "python",
   "pygments_lexer": "ipython3",
   "version": "3.9.12"
  },
  "vscode": {
   "interpreter": {
    "hash": "f5ae0e233e6828920522b71e90b2e7bb870e1722e4714eb72e24c9e4386a1d19"
   }
  }
 },
 "nbformat": 4,
 "nbformat_minor": 5
}

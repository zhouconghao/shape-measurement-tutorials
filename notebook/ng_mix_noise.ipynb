{
 "cells": [
  {
   "cell_type": "code",
   "execution_count": 7,
   "metadata": {},
   "outputs": [],
   "source": [
    "# start add noise to the image\n",
    "# what is the relation between error in m vs the noise level applied\n",
    "# pixel noise vs shape noise (level of 0.2)\n",
    "\n",
    "# read Dodelson: 1. overview, section 2,4, read section 6,7,8 + magnefication, possibly 9"
   ]
  },
  {
   "cell_type": "code",
   "execution_count": 8,
   "metadata": {},
   "outputs": [
    {
     "name": "stdout",
     "output_type": "stream",
     "text": [
      "The autoreload extension is already loaded. To reload it, use:\n",
      "  %reload_ext autoreload\n"
     ]
    }
   ],
   "source": [
    "%load_ext autoreload\n",
    "%autoreload 2\n",
    "\n",
    "import sys\n",
    "sys.path.append(\"/global/cfs/projectdirs/des/zhou/lsst_shear/shape-measurement-tutorials/src\")\n",
    "\n",
    "\n",
    "from utils import get_moments, get_elipticity, get_x_y\n",
    "import galsim, ngmix"
   ]
  },
  {
   "cell_type": "code",
   "execution_count": 21,
   "metadata": {},
   "outputs": [],
   "source": [
    "#The implementation of shape noise is questionable.\n",
    "\n",
    "import ngmix\n",
    "import numpy as np\n",
    "\n",
    "\n",
    "def sim_func(*, g1, g2, seed, psf_fwhm, pixel_noise_std, size_noise_std=0,shape_noise_std=0):\n",
    "    # this is an RNG you can use to draw random numbers as needed\n",
    "    # always use this RNG and not np.random directly\n",
    "    # doing this makes sure the code is reproducible\n",
    "    \n",
    "    rng = np.random.RandomState(seed=seed)\n",
    "\n",
    "    size_nse = rng.normal(loc=0,scale=size_noise_std)\n",
    "    # make an Exponential object in galsim with a half light radius of 0.5\n",
    "    gal = galsim.Exponential(half_light_radius=0.5+size_nse)\n",
    "    \n",
    "    g1_noise = rng.normal(loc=0,scale=shape_noise_std)\n",
    "    g2_noise = rng.normal(loc=0,scale=shape_noise_std)\n",
    "\n",
    "    gal = gal.shear(g1=g1_noise, g2=g2_noise)\n",
    "\n",
    "    # make a Gaussian object in galsim with a fwhm of `psf_fwhm`\n",
    "    psf = galsim.Gaussian(fwhm=psf_fwhm)\n",
    "\n",
    "    # apply the input shear `g1`, `g2` to the galaxy `gal`\n",
    "    \n",
    "    ### draw shear randomly scale=0.3 for shear \n",
    "    sheared_gal = gal.shear(g1=g1, g2=g2)\n",
    "\n",
    "    # here we are going to apply a random shift to the object's center\n",
    "    dx, dy = 2.0 * (rng.uniform(size=2) - 0.5) * 0.2\n",
    "    sheared_gal = sheared_gal.shift(dx, dy)\n",
    "\n",
    "    # convolve the sheared galaxy with the psf\n",
    "    obj = galsim.Convolve(sheared_gal, psf)\n",
    "\n",
    "    # render the object and the PSF on odd sized images of 53 pixels on a side with\n",
    "    # a pixel scale of 0.2\n",
    "    obj_im = obj.drawImage(scale=0.2, nx=53, ny=53)\n",
    "    psf_im = psf.drawImage(scale=0.2, nx=53, ny=53)\n",
    "\n",
    "    # now we are going to add noise to the object image and setup the ngmix data\n",
    "    cen = (53 - 1) / 2\n",
    "    nse_sd = pixel_noise_std\n",
    "    nse = rng.normal(size=obj_im.array.shape, scale=nse_sd)\n",
    "    nse_im = rng.normal(size=obj_im.array.shape, scale=nse_sd)\n",
    "    \n",
    "    jac = ngmix.jacobian.DiagonalJacobian(scale=0.2,\n",
    "                                          row=cen + dy / 0.2,\n",
    "                                          col=cen + dx / 0.2)\n",
    "    psf_jac = ngmix.jacobian.DiagonalJacobian(scale=0.2, row=cen, col=cen)\n",
    "\n",
    "    # Transformation between pixel and tangent uv coordinate. It has off diag terms if CCD is rotated.\n",
    "    # in real data we care about off diag terms \n",
    "\n",
    "    # we have to add a little noise to the PSf to make things stable\n",
    "    target_psf_s2n = 500.0\n",
    "    target_psf_noise = np.sqrt(np.sum(psf_im.array**2)) / target_psf_s2n\n",
    "\n",
    "    psf_obs = ngmix.Observation(\n",
    "        image=psf_im.array,\n",
    "        weight=np.ones_like(psf_im.array) / target_psf_noise**2,\n",
    "        jacobian=psf_jac,\n",
    "    )\n",
    "\n",
    "    # here we build the final observation\n",
    "    obj_obs = ngmix.Observation(\n",
    "        image=obj_im.array + nse,\n",
    "        noise=nse_im,\n",
    "        weight=np.ones_like(nse_im) / nse_sd**2,\n",
    "        jacobian=psf_jac,\n",
    "        bmask=np.zeros_like(nse_im, dtype=np.int32),\n",
    "        ormask=np.zeros_like(nse_im, dtype=np.int32),\n",
    "        psf=psf_obs,\n",
    "    )\n",
    "\n",
    "    return obj_obs"
   ]
  },
  {
   "cell_type": "code",
   "execution_count": 10,
   "metadata": {},
   "outputs": [],
   "source": [
    "obs_list_pixel_noise = []\n",
    "obs_list_size_noise = []\n",
    "obs_list_shape_noise = []\n",
    "\n",
    "pixel_noise_std_range = 10**np.linspace(-8,-3,10)\n",
    "size_noise_std_range = 10**np.linspace(-8,-1,10)\n",
    "shape_noise_std_range = 10**np.linspace(-8,-1,10)"
   ]
  },
  {
   "cell_type": "code",
   "execution_count": 11,
   "metadata": {},
   "outputs": [
    {
     "name": "stdout",
     "output_type": "stream",
     "text": [
      "[1.00000000e-08 3.59381366e-08 1.29154967e-07 4.64158883e-07\n",
      " 1.66810054e-06 5.99484250e-06 2.15443469e-05 7.74263683e-05\n",
      " 2.78255940e-04 1.00000000e-03]\n",
      "[1.00000000e-08 5.99484250e-08 3.59381366e-07 2.15443469e-06\n",
      " 1.29154967e-05 7.74263683e-05 4.64158883e-04 2.78255940e-03\n",
      " 1.66810054e-02 1.00000000e-01]\n",
      "[1.00000000e-08 5.99484250e-08 3.59381366e-07 2.15443469e-06\n",
      " 1.29154967e-05 7.74263683e-05 4.64158883e-04 2.78255940e-03\n",
      " 1.66810054e-02 1.00000000e-01]\n"
     ]
    }
   ],
   "source": [
    "print(pixel_noise_std_range)\n",
    "print(shape_noise_std_range)\n",
    "print(size_noise_std_range)"
   ]
  },
  {
   "cell_type": "code",
   "execution_count": 12,
   "metadata": {},
   "outputs": [],
   "source": [
    "# do your work here!\n",
    "import mdet_meas_tools as mmt"
   ]
  },
  {
   "cell_type": "code",
   "execution_count": 24,
   "metadata": {},
   "outputs": [
    {
     "name": "stderr",
     "output_type": "stream",
     "text": [
      "                                       "
     ]
    },
    {
     "name": "stdout",
     "output_type": "stream",
     "text": [
      "    # of sims: 10\n",
      "    noise cancel m   :  0.377995 +/-  0.000779 [1e-3, 3-sigma]\n",
      "    noise cancel c   : -0.004410 +/-  0.018099 [1e-5, 3-sigma]\n"
     ]
    },
    {
     "name": "stderr",
     "output_type": "stream",
     "text": [
      "                                       "
     ]
    },
    {
     "name": "stdout",
     "output_type": "stream",
     "text": [
      "    # of sims: 10\n",
      "    noise cancel m   :  0.376853 +/-  0.002572 [1e-3, 3-sigma]\n",
      "    noise cancel c   : -0.016151 +/-  0.064995 [1e-5, 3-sigma]\n"
     ]
    },
    {
     "name": "stderr",
     "output_type": "stream",
     "text": [
      "                                       "
     ]
    },
    {
     "name": "stdout",
     "output_type": "stream",
     "text": [
      "    # of sims: 10\n",
      "    noise cancel m   :  0.372746 +/-  0.009050 [1e-3, 3-sigma]\n",
      "    noise cancel c   : -0.058350 +/-  0.233557 [1e-5, 3-sigma]\n"
     ]
    },
    {
     "name": "stderr",
     "output_type": "stream",
     "text": [
      "                                       "
     ]
    },
    {
     "name": "stdout",
     "output_type": "stream",
     "text": [
      "    # of sims: 10\n",
      "    noise cancel m   :  0.358062 +/-  0.032346 [1e-3, 3-sigma]\n",
      "    noise cancel c   : -0.210011 +/-  0.839300 [1e-5, 3-sigma]\n"
     ]
    },
    {
     "name": "stderr",
     "output_type": "stream",
     "text": [
      "                                       "
     ]
    },
    {
     "name": "stdout",
     "output_type": "stream",
     "text": [
      "    # of sims: 10\n",
      "    noise cancel m   :  0.304612 +/-  0.115897 [1e-3, 3-sigma]\n",
      "    noise cancel c   : -0.756208 +/-  3.016469 [1e-5, 3-sigma]\n"
     ]
    },
    {
     "name": "stderr",
     "output_type": "stream",
     "text": [
      "                                       "
     ]
    },
    {
     "name": "stdout",
     "output_type": "stream",
     "text": [
      "    # of sims: 10\n",
      "    noise cancel m   :  0.116437 +/-  0.416965 [1e-3, 3-sigma]\n",
      "    noise cancel c   : -2.703230 +/-  10.847306 [1e-5, 3-sigma]\n"
     ]
    },
    {
     "name": "stderr",
     "output_type": "stream",
     "text": [
      "                                       "
     ]
    },
    {
     "name": "stdout",
     "output_type": "stream",
     "text": [
      "    # of sims: 10\n",
      "    noise cancel m   : -0.551468 +/-  1.494267 [1e-3, 3-sigma]\n",
      "    noise cancel c   : -9.477062 +/-  39.097457 [1e-5, 3-sigma]\n"
     ]
    },
    {
     "name": "stderr",
     "output_type": "stream",
     "text": [
      "                                       "
     ]
    },
    {
     "name": "stdout",
     "output_type": "stream",
     "text": [
      "    # of sims: 10\n",
      "    noise cancel m   : -2.993687 +/-  5.334121 [1e-3, 3-sigma]\n",
      "    noise cancel c   : -32.551783 +/-  141.458587 [1e-5, 3-sigma]\n"
     ]
    },
    {
     "name": "stderr",
     "output_type": "stream",
     "text": [
      "                                       "
     ]
    },
    {
     "name": "stdout",
     "output_type": "stream",
     "text": [
      "    # of sims: 10\n",
      "    noise cancel m   : -11.453061 +/-  17.982694 [1e-3, 3-sigma]\n",
      "    noise cancel c   : -107.986206 +/-  517.096891 [1e-5, 3-sigma]\n"
     ]
    },
    {
     "name": "stderr",
     "output_type": "stream",
     "text": [
      "                                       "
     ]
    },
    {
     "name": "stdout",
     "output_type": "stream",
     "text": [
      "    # of sims: 10\n",
      "    noise cancel m   : -32.528796 +/-  65.944489 [1e-3, 3-sigma]\n",
      "    noise cancel c   : -400.408593 +/-  1918.237212 [1e-5, 3-sigma]\n"
     ]
    },
    {
     "name": "stderr",
     "output_type": "stream",
     "text": [
      "                                       \r"
     ]
    }
   ],
   "source": [
    "pixel_noise_std_list = []\n",
    "for pixel_noise_std_ in pixel_noise_std_range:\n",
    "    pdata,mdata, m, msd, c, csd  = mmt.run_mdet_sims(sim_func=sim_func,sim_kwargs={'psf_fwhm':0.8, 'pixel_noise_std':pixel_noise_std_,'size_noise_std':0,'shape_noise_std':0},seed=123,n_sims=10)\n",
    "    pixel_noise_std_list.append((msd,csd))\n",
    "    res = mmt.estimate_m_and_c(pdata,mdata)"
   ]
  },
  {
   "cell_type": "code",
   "execution_count": 42,
   "metadata": {},
   "outputs": [
    {
     "name": "stdout",
     "output_type": "stream",
     "text": [
      "size_noise_std_=1e-08\n"
     ]
    },
    {
     "name": "stderr",
     "output_type": "stream",
     "text": [
      "                                       "
     ]
    },
    {
     "name": "stdout",
     "output_type": "stream",
     "text": [
      "    # of sims: 10\n",
      "    noise cancel m   : -0.066880 +/-  0.694010 [1e-3, 3-sigma]\n",
      "    noise cancel c   : -4.478950 +/-  18.102418 [1e-5, 3-sigma]\n"
     ]
    },
    {
     "name": "stderr",
     "output_type": "stream",
     "text": [
      "                                       \r"
     ]
    },
    {
     "name": "stdout",
     "output_type": "stream",
     "text": [
      "size_noise_std_=5.99484250318941e-08\n"
     ]
    },
    {
     "name": "stderr",
     "output_type": "stream",
     "text": [
      "                                       "
     ]
    },
    {
     "name": "stdout",
     "output_type": "stream",
     "text": [
      "    # of sims: 10\n",
      "    noise cancel m   : -0.066433 +/-  0.694168 [1e-3, 3-sigma]\n",
      "    noise cancel c   : -4.479207 +/-  18.102441 [1e-5, 3-sigma]\n"
     ]
    },
    {
     "name": "stderr",
     "output_type": "stream",
     "text": [
      "                                       \r"
     ]
    },
    {
     "name": "stdout",
     "output_type": "stream",
     "text": [
      "size_noise_std_=3.5938136638046254e-07\n"
     ]
    },
    {
     "name": "stderr",
     "output_type": "stream",
     "text": [
      "                                       "
     ]
    },
    {
     "name": "stdout",
     "output_type": "stream",
     "text": [
      "    # of sims: 10\n",
      "    noise cancel m   : -0.066714 +/-  0.693739 [1e-3, 3-sigma]\n",
      "    noise cancel c   : -4.479037 +/-  18.102460 [1e-5, 3-sigma]\n"
     ]
    },
    {
     "name": "stderr",
     "output_type": "stream",
     "text": [
      "                                       \r"
     ]
    },
    {
     "name": "stdout",
     "output_type": "stream",
     "text": [
      "size_noise_std_=2.1544346900318865e-06\n"
     ]
    },
    {
     "name": "stderr",
     "output_type": "stream",
     "text": [
      "                                       "
     ]
    },
    {
     "name": "stdout",
     "output_type": "stream",
     "text": [
      "    # of sims: 10\n",
      "    noise cancel m   : -0.067424 +/-  0.694223 [1e-3, 3-sigma]\n",
      "    noise cancel c   : -4.479002 +/-  18.102258 [1e-5, 3-sigma]\n"
     ]
    },
    {
     "name": "stderr",
     "output_type": "stream",
     "text": [
      "                                       \r"
     ]
    },
    {
     "name": "stdout",
     "output_type": "stream",
     "text": [
      "size_noise_std_=1.2915496650148827e-05\n"
     ]
    },
    {
     "name": "stderr",
     "output_type": "stream",
     "text": [
      "                                       "
     ]
    },
    {
     "name": "stdout",
     "output_type": "stream",
     "text": [
      "    # of sims: 10\n",
      "    noise cancel m   : -0.066790 +/-  0.694051 [1e-3, 3-sigma]\n",
      "    noise cancel c   : -4.479683 +/-  18.101122 [1e-5, 3-sigma]\n"
     ]
    },
    {
     "name": "stderr",
     "output_type": "stream",
     "text": [
      "                                       \r"
     ]
    },
    {
     "name": "stdout",
     "output_type": "stream",
     "text": [
      "size_noise_std_=7.742636826811278e-05\n"
     ]
    },
    {
     "name": "stderr",
     "output_type": "stream",
     "text": [
      "                                       "
     ]
    },
    {
     "name": "stdout",
     "output_type": "stream",
     "text": [
      "    # of sims: 10\n",
      "    noise cancel m   : -0.066081 +/-  0.694539 [1e-3, 3-sigma]\n",
      "    noise cancel c   : -4.480087 +/-  18.100542 [1e-5, 3-sigma]\n"
     ]
    },
    {
     "name": "stderr",
     "output_type": "stream",
     "text": [
      "                                       \r"
     ]
    },
    {
     "name": "stdout",
     "output_type": "stream",
     "text": [
      "size_noise_std_=0.0004641588833612782\n"
     ]
    },
    {
     "name": "stderr",
     "output_type": "stream",
     "text": [
      "                                       "
     ]
    },
    {
     "name": "stdout",
     "output_type": "stream",
     "text": [
      "    # of sims: 10\n",
      "    noise cancel m   : -0.063112 +/-  0.695699 [1e-3, 3-sigma]\n",
      "    noise cancel c   : -4.479951 +/-  18.099796 [1e-5, 3-sigma]\n"
     ]
    },
    {
     "name": "stderr",
     "output_type": "stream",
     "text": [
      "                                       \r"
     ]
    },
    {
     "name": "stdout",
     "output_type": "stream",
     "text": [
      "size_noise_std_=0.0027825594022071257\n"
     ]
    },
    {
     "name": "stderr",
     "output_type": "stream",
     "text": [
      "                                       "
     ]
    },
    {
     "name": "stdout",
     "output_type": "stream",
     "text": [
      "    # of sims: 10\n",
      "    noise cancel m   : -0.057135 +/-  0.697036 [1e-3, 3-sigma]\n",
      "    noise cancel c   : -4.490168 +/-  18.099489 [1e-5, 3-sigma]\n"
     ]
    },
    {
     "name": "stderr",
     "output_type": "stream",
     "text": [
      "                                       \r"
     ]
    },
    {
     "name": "stdout",
     "output_type": "stream",
     "text": [
      "size_noise_std_=0.016681005372000592\n"
     ]
    },
    {
     "name": "stderr",
     "output_type": "stream",
     "text": [
      "                                       "
     ]
    },
    {
     "name": "stdout",
     "output_type": "stream",
     "text": [
      "    # of sims: 10\n",
      "    noise cancel m   : -0.069916 +/-  0.689822 [1e-3, 3-sigma]\n",
      "    noise cancel c   : -4.560628 +/-  18.113747 [1e-5, 3-sigma]\n"
     ]
    },
    {
     "name": "stderr",
     "output_type": "stream",
     "text": [
      "                                       \r"
     ]
    },
    {
     "name": "stdout",
     "output_type": "stream",
     "text": [
      "size_noise_std_=0.1\n"
     ]
    },
    {
     "name": "stderr",
     "output_type": "stream",
     "text": [
      "                                       "
     ]
    },
    {
     "name": "stdout",
     "output_type": "stream",
     "text": [
      "    # of sims: 10\n",
      "    noise cancel m   : -0.091837 +/-  0.697475 [1e-3, 3-sigma]\n",
      "    noise cancel c   : -5.148925 +/-  18.894785 [1e-5, 3-sigma]\n"
     ]
    },
    {
     "name": "stderr",
     "output_type": "stream",
     "text": [
      "                                       \r"
     ]
    }
   ],
   "source": [
    "size_noise_std_list = []\n",
    "for size_noise_std_ in size_noise_std_range:\n",
    "    print(f\"{size_noise_std_=}\")\n",
    "    pdata,mdata, m, msd, c, csd  = mmt.run_mdet_sims(sim_func=sim_func,sim_kwargs={'psf_fwhm':0.8, 'pixel_noise_std':1e-5,'size_noise_std':size_noise_std_,'shape_noise_std':0},seed=123,n_sims=10)\n",
    "    size_noise_std_list.append((msd,csd))\n",
    "    res = mmt.estimate_m_and_c(pdata,mdata)"
   ]
  },
  {
   "cell_type": "code",
   "execution_count": 25,
   "metadata": {},
   "outputs": [
    {
     "name": "stdout",
     "output_type": "stream",
     "text": [
      "shape_noise_std_=1e-08\n"
     ]
    },
    {
     "name": "stderr",
     "output_type": "stream",
     "text": [
      "                                       "
     ]
    },
    {
     "name": "stdout",
     "output_type": "stream",
     "text": [
      "    # of sims: 10\n",
      "    noise cancel m   : -0.066456 +/-  0.694203 [1e-3, 3-sigma]\n",
      "    noise cancel c   : -4.479203 +/-  18.102340 [1e-5, 3-sigma]\n"
     ]
    },
    {
     "name": "stderr",
     "output_type": "stream",
     "text": [
      "                                       \r"
     ]
    },
    {
     "name": "stdout",
     "output_type": "stream",
     "text": [
      "shape_noise_std_=5.99484250318941e-08\n"
     ]
    },
    {
     "name": "stderr",
     "output_type": "stream",
     "text": [
      "                                       "
     ]
    },
    {
     "name": "stdout",
     "output_type": "stream",
     "text": [
      "    # of sims: 10\n",
      "    noise cancel m   : -0.066937 +/-  0.694375 [1e-3, 3-sigma]\n",
      "    noise cancel c   : -4.481837 +/-  18.103583 [1e-5, 3-sigma]\n"
     ]
    },
    {
     "name": "stderr",
     "output_type": "stream",
     "text": [
      "                                       \r"
     ]
    },
    {
     "name": "stdout",
     "output_type": "stream",
     "text": [
      "shape_noise_std_=3.5938136638046254e-07\n"
     ]
    },
    {
     "name": "stderr",
     "output_type": "stream",
     "text": [
      "                                       "
     ]
    },
    {
     "name": "stdout",
     "output_type": "stream",
     "text": [
      "    # of sims: 10\n",
      "    noise cancel m   : -0.067078 +/-  0.694120 [1e-3, 3-sigma]\n",
      "    noise cancel c   : -4.506420 +/-  18.112027 [1e-5, 3-sigma]\n"
     ]
    },
    {
     "name": "stderr",
     "output_type": "stream",
     "text": [
      "                                       \r"
     ]
    },
    {
     "name": "stdout",
     "output_type": "stream",
     "text": [
      "shape_noise_std_=2.1544346900318865e-06\n"
     ]
    },
    {
     "name": "stderr",
     "output_type": "stream",
     "text": [
      "                                       "
     ]
    },
    {
     "name": "stdout",
     "output_type": "stream",
     "text": [
      "    # of sims: 10\n",
      "    noise cancel m   : -0.066843 +/-  0.694035 [1e-3, 3-sigma]\n",
      "    noise cancel c   : -4.643194 +/-  18.158055 [1e-5, 3-sigma]\n"
     ]
    },
    {
     "name": "stderr",
     "output_type": "stream",
     "text": [
      "                                       \r"
     ]
    },
    {
     "name": "stdout",
     "output_type": "stream",
     "text": [
      "shape_noise_std_=1.2915496650148827e-05\n"
     ]
    },
    {
     "name": "stderr",
     "output_type": "stream",
     "text": [
      "                                       "
     ]
    },
    {
     "name": "stdout",
     "output_type": "stream",
     "text": [
      "    # of sims: 10\n",
      "    noise cancel m   : -0.066948 +/-  0.693810 [1e-3, 3-sigma]\n",
      "    noise cancel c   : -5.465655 +/-  18.444889 [1e-5, 3-sigma]\n"
     ]
    },
    {
     "name": "stderr",
     "output_type": "stream",
     "text": [
      "                                       \r"
     ]
    },
    {
     "name": "stdout",
     "output_type": "stream",
     "text": [
      "shape_noise_std_=7.742636826811278e-05\n"
     ]
    },
    {
     "name": "stderr",
     "output_type": "stream",
     "text": [
      "                                       "
     ]
    },
    {
     "name": "stdout",
     "output_type": "stream",
     "text": [
      "    # of sims: 10\n",
      "    noise cancel m   : -0.066988 +/-  0.693835 [1e-3, 3-sigma]\n",
      "    noise cancel c   : -10.391177 +/-  20.488108 [1e-5, 3-sigma]\n"
     ]
    },
    {
     "name": "stderr",
     "output_type": "stream",
     "text": [
      "                                       \r"
     ]
    },
    {
     "name": "stdout",
     "output_type": "stream",
     "text": [
      "shape_noise_std_=0.0004641588833612782\n"
     ]
    },
    {
     "name": "stderr",
     "output_type": "stream",
     "text": [
      "                                       "
     ]
    },
    {
     "name": "stdout",
     "output_type": "stream",
     "text": [
      "    # of sims: 10\n",
      "    noise cancel m   : -0.066973 +/-  0.692413 [1e-3, 3-sigma]\n",
      "    noise cancel c   : -39.921540 +/-  38.513770 [1e-5, 3-sigma]\n"
     ]
    },
    {
     "name": "stderr",
     "output_type": "stream",
     "text": [
      "                                       \r"
     ]
    },
    {
     "name": "stdout",
     "output_type": "stream",
     "text": [
      "shape_noise_std_=0.0027825594022071257\n"
     ]
    },
    {
     "name": "stderr",
     "output_type": "stream",
     "text": [
      "                                       "
     ]
    },
    {
     "name": "stdout",
     "output_type": "stream",
     "text": [
      "    # of sims: 10\n",
      "    noise cancel m   : -0.065158 +/-  0.693927 [1e-3, 3-sigma]\n",
      "    noise cancel c   : -216.941499 +/-  170.117676 [1e-5, 3-sigma]\n"
     ]
    },
    {
     "name": "stderr",
     "output_type": "stream",
     "text": [
      "                                       \r"
     ]
    },
    {
     "name": "stdout",
     "output_type": "stream",
     "text": [
      "shape_noise_std_=0.016681005372000592\n"
     ]
    },
    {
     "name": "stderr",
     "output_type": "stream",
     "text": [
      "                                       "
     ]
    },
    {
     "name": "stdout",
     "output_type": "stream",
     "text": [
      "    # of sims: 10\n",
      "    noise cancel m   : -0.059465 +/-  0.692775 [1e-3, 3-sigma]\n",
      "    noise cancel c   : -1278.327617 +/-  975.640607 [1e-5, 3-sigma]\n"
     ]
    },
    {
     "name": "stderr",
     "output_type": "stream",
     "text": [
      "                                       \r"
     ]
    },
    {
     "name": "stdout",
     "output_type": "stream",
     "text": [
      "shape_noise_std_=0.1\n"
     ]
    },
    {
     "name": "stderr",
     "output_type": "stream",
     "text": [
      "                                       "
     ]
    },
    {
     "name": "stdout",
     "output_type": "stream",
     "text": [
      "    # of sims: 10\n",
      "    noise cancel m   : -0.050394 +/-  0.682323 [1e-3, 3-sigma]\n",
      "    noise cancel c   : -7673.448130 +/-  5885.538543 [1e-5, 3-sigma]\n"
     ]
    },
    {
     "name": "stderr",
     "output_type": "stream",
     "text": [
      "                                       \r"
     ]
    }
   ],
   "source": [
    "shape_noise_std_list = []\n",
    "for shape_noise_std_ in shape_noise_std_range:\n",
    "    print(f\"{shape_noise_std_=}\")\n",
    "    pdata,mdata, m, msd, c, csd  = mmt.run_mdet_sims(sim_func=sim_func,sim_kwargs={'psf_fwhm':0.8, 'pixel_noise_std':1e-5,'shape_noise_std':shape_noise_std_},seed=123,n_sims=10)\n",
    "    shape_noise_std_list.append((msd,csd))\n",
    "    res = mmt.estimate_m_and_c(pdata,mdata)"
   ]
  },
  {
   "cell_type": "code",
   "execution_count": 43,
   "metadata": {},
   "outputs": [
    {
     "data": {
      "image/png": "[encoded data removed]",
      "text/plain": [
       "<Figure size 1000x1500 with 6 Axes>"
      ]
     },
     "metadata": {},
     "output_type": "display_data"
    }
   ],
   "source": [
    "import matplotlib.pyplot as plt\n",
    "\n",
    "def plot_m_and_c(pixel_noise_std_list,shape_noise_std_list,size_noise_std_list):\n",
    "\n",
    "    plt.figure(figsize=(10,15))\n",
    "\n",
    "    plt.subplot(3,2,1)\n",
    "    plt.plot(pixel_noise_std_range,[i[0] for i in pixel_noise_std_list])\n",
    "    plt.xlabel('pixel noise std')\n",
    "    plt.ylabel('std of m [1e-3]')\n",
    "    plt.xscale('log')\n",
    "    plt.yscale('log')\n",
    "    plt.subplot(3,2,2)\n",
    "    plt.plot(pixel_noise_std_range,[i[1] for i in pixel_noise_std_list])\n",
    "    plt.xlabel('pixel noise std')\n",
    "    plt.xscale('log')\n",
    "    plt.yscale('log')\n",
    "    plt.ylabel('std of c [1e-5]')\n",
    "\n",
    "    plt.subplot(3,2,3)\n",
    "    plt.plot(shape_noise_std_range,[i[0] for i in shape_noise_std_list])\n",
    "    plt.xlabel('shape noise std')\n",
    "    plt.ylabel('std of m [1e-3]')\n",
    "    plt.subplot(3,2,4)\n",
    "    plt.plot(shape_noise_std_range,[i[1] for i in shape_noise_std_list])\n",
    "    plt.xlabel('shape noise std')\n",
    "    plt.ylabel('std of c [1e-5]')\n",
    "    \n",
    "    \n",
    "    plt.subplot(3,2,5)\n",
    "    plt.plot(size_noise_std_range,[i[0] for i in size_noise_std_list])\n",
    "    plt.xlabel('size noise std')\n",
    "    plt.ylabel('std of m [1e-3]')\n",
    "    plt.subplot(3,2,6)\n",
    "    plt.plot(size_noise_std_range,[i[1] for i in size_noise_std_list])\n",
    "    plt.xlabel('size noise std')\n",
    "    plt.ylabel('std of c [1e-5]')\n",
    "    plt.show()\n",
    "\n",
    "\n",
    "plot_m_and_c(pixel_noise_std_list,shape_noise_std_list,size_noise_std_list)"
   ]
  }
 ],
 "metadata": {
  "kernelspec": {
   "display_name": "Python 3.9.7 64-bit ('lsst_shear')",
   "language": "python",
   "name": "python3"
  },
  "language_info": {
   "codemirror_mode": {
    "name": "ipython",
    "version": 3
   },
   "file_extension": ".py",
   "mimetype": "text/x-python",
   "name": "python",
   "nbconvert_exporter": "python",
   "pygments_lexer": "ipython3",
   "version": "3.10.6"
  },
  "orig_nbformat": 4,
  "vscode": {
   "interpreter": {
    "hash": "f5ae0e233e6828920522b71e90b2e7bb870e1722e4714eb72e24c9e4386a1d19"
   }
  }
 },
 "nbformat": 4,
 "nbformat_minor": 2
}

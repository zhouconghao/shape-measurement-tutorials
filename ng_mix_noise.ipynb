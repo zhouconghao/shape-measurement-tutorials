{
 "cells": [
  {
   "cell_type": "code",
   "execution_count": 1,
   "metadata": {},
   "outputs": [],
   "source": [
    "# start add noise to the image\n",
    "# what is the relation between error in m vs the noise level applied\n",
    "# pixel noise vs shape noise (level of 0.2)\n",
    "\n",
    "# read Dodelson: 1. overview, section 2,4, read section 6,7,8 + magnefication, possibly 9"
   ]
  },
  {
   "cell_type": "code",
   "execution_count": 3,
   "metadata": {},
   "outputs": [],
   "source": [
    "import galsim, ngmix"
   ]
  },
  {
   "cell_type": "code",
   "execution_count": 1,
   "metadata": {},
   "outputs": [],
   "source": [
    "import ngmix\n",
    "import numpy as np\n",
    "\n",
    "\n",
    "def sim_func(*, g1, g2, seed, psf_fwhm):\n",
    "    # this is an RNG you can use to draw random numbers as needed\n",
    "    # always use this RNG and not np.random directly\n",
    "    # doing this makes sure the code is reproducible\n",
    "    rng = np.random.RandomState(seed=seed)\n",
    "\n",
    "    # make an Exponential object in galsim with a half light radius of 0.5\n",
    "    gal = galsim.Exponential(half_light_radius=0.5)\n",
    "\n",
    "    # make a Gaussian object in galsim with a fwhm of `psf_fwhm`\n",
    "    psf = galsim.Gaussian(fwhm=psf_fwhm)\n",
    "\n",
    "    # apply the input shear `g1`, `g2` to the galaxy `gal`\n",
    "    sheared_gal = gal.shear(g1=g1, g2=g2)\n",
    "\n",
    "    # here we are going to apply a random shift to the object's center\n",
    "    dx, dy = 2.0 * (rng.uniform(size=2) - 0.5) * 0.2\n",
    "    sheared_gal = sheared_gal.shift(dx, dy)\n",
    "\n",
    "    # convolve the sheared galaxy with the psf\n",
    "    obj = galsim.Convolve(sheared_gal, psf)\n",
    "\n",
    "    # render the object and the PSF on odd sized images of 53 pixels on a side with\n",
    "    # a pixel scale of 0.2\n",
    "    obj_im = obj.drawImage(scale=0.2, nx=53, ny=53)\n",
    "    psf_im = psf.drawImage(scale=0.2, nx=53, ny=53)\n",
    "\n",
    "    # now we are going to add noise to the object image and setup the ngmix data\n",
    "    cen = (53 - 1) / 2\n",
    "    nse_sd = 1e-5\n",
    "    nse = rng.normal(size=obj_im.array.shape, scale=nse_sd)\n",
    "    nse_im = rng.normal(size=obj_im.array.shape, scale=nse_sd)\n",
    "    jac = ngmix.jacobian.DiagonalJacobian(scale=0.2,\n",
    "                                          row=cen + dy / 0.2,\n",
    "                                          col=cen + dx / 0.2)\n",
    "    psf_jac = ngmix.jacobian.DiagonalJacobian(scale=0.2, row=cen, col=cen)\n",
    "\n",
    "    # Transformation between pixel and tangent uv coordinate. It has off diag terms if CCD is rotated.\n",
    "    # in real data we care about off diag terms \n",
    "\n",
    "    # we have to add a little noise to the PSf to make things stable\n",
    "    target_psf_s2n = 500.0\n",
    "    target_psf_noise = np.sqrt(np.sum(psf_im.array**2)) / target_psf_s2n\n",
    "    psf_obs = ngmix.Observation(\n",
    "        image=psf_im.array,\n",
    "        weight=np.ones_like(psf_im.array) / target_psf_noise**2,\n",
    "        jacobian=psf_jac,\n",
    "    )\n",
    "\n",
    "    # here we build the final observation\n",
    "    obj_obs = ngmix.Observation(\n",
    "        image=obj_im.array + nse,\n",
    "        noise=nse_im,\n",
    "        weight=np.ones_like(nse_im) / nse_sd**2,\n",
    "        jacobian=psf_jac,\n",
    "        bmask=np.zeros_like(nse_im, dtype=np.int32),\n",
    "        ormask=np.zeros_like(nse_im, dtype=np.int32),\n",
    "        psf=psf_obs,\n",
    "    )\n",
    "\n",
    "    return obj_obs"
   ]
  },
  {
   "cell_type": "code",
   "execution_count": null,
   "metadata": {},
   "outputs": [],
   "source": []
  }
 ],
 "metadata": {
  "kernelspec": {
   "display_name": "Python 3.9.7 64-bit ('lsst_shear')",
   "language": "python",
   "name": "python3"
  },
  "language_info": {
   "codemirror_mode": {
    "name": "ipython",
    "version": 3
   },
   "file_extension": ".py",
   "mimetype": "text/x-python",
   "name": "python",
   "nbconvert_exporter": "python",
   "pygments_lexer": "ipython3",
   "version": "3.10.6"
  },
  "orig_nbformat": 4,
  "vscode": {
   "interpreter": {
    "hash": "f5ae0e233e6828920522b71e90b2e7bb870e1722e4714eb72e24c9e4386a1d19"
   }
  }
 },
 "nbformat": 4,
 "nbformat_minor": 2
}

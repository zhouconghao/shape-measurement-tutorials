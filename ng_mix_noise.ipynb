{
 "cells": [
  {
   "cell_type": "code",
   "execution_count": 41,
   "metadata": {},
   "outputs": [],
   "source": [
    "# start add noise to the image\n",
    "# what is the relation between error in m vs the noise level applied\n",
    "# pixel noise vs shape noise (level of 0.2)\n",
    "\n",
    "# read Dodelson: 1. overview, section 2,4, read section 6,7,8 + magnefication, possibly 9"
   ]
  },
  {
   "cell_type": "code",
   "execution_count": 42,
   "metadata": {},
   "outputs": [
    {
     "name": "stdout",
     "output_type": "stream",
     "text": [
      "The autoreload extension is already loaded. To reload it, use:\n",
      "  %reload_ext autoreload\n"
     ]
    }
   ],
   "source": [
    "%load_ext autoreload\n",
    "%autoreload 2\n",
    "\n",
    "from utils import get_moments, get_elipticity, get_x_y\n",
    "import galsim, ngmix"
   ]
  },
  {
   "cell_type": "code",
   "execution_count": 64,
   "metadata": {},
   "outputs": [],
   "source": [
    "#The implementation of shape noise is questionable.\n",
    "\n",
    "import ngmix\n",
    "import numpy as np\n",
    "\n",
    "\n",
    "def sim_func(*, g1, g2, seed, psf_fwhm, pixel_noise_std, shape_noise_std):\n",
    "    # this is an RNG you can use to draw random numbers as needed\n",
    "    # always use this RNG and not np.random directly\n",
    "    # doing this makes sure the code is reproducible\n",
    "    \n",
    "    rng = np.random.RandomState(seed=seed)\n",
    "\n",
    "    shape_nse = rng.normal(loc=0,scale=shape_noise_std)\n",
    "    # make an Exponential object in galsim with a half light radius of 0.5\n",
    "    gal = galsim.Exponential(half_light_radius=0.5+shape_nse)\n",
    "\n",
    "    # make a Gaussian object in galsim with a fwhm of `psf_fwhm`\n",
    "    psf = galsim.Gaussian(fwhm=psf_fwhm)\n",
    "\n",
    "    # apply the input shear `g1`, `g2` to the galaxy `gal`\n",
    "    \n",
    "    ### draw shear randomly scale=0.3 for shear \n",
    "    sheared_gal = gal.shear(g1=g1, g2=g2)\n",
    "\n",
    "    # here we are going to apply a random shift to the object's center\n",
    "    dx, dy = 2.0 * (rng.uniform(size=2) - 0.5) * 0.2\n",
    "    sheared_gal = sheared_gal.shift(dx, dy)\n",
    "\n",
    "    # convolve the sheared galaxy with the psf\n",
    "    obj = galsim.Convolve(sheared_gal, psf)\n",
    "\n",
    "    # render the object and the PSF on odd sized images of 53 pixels on a side with\n",
    "    # a pixel scale of 0.2\n",
    "    obj_im = obj.drawImage(scale=0.2, nx=53, ny=53)\n",
    "    psf_im = psf.drawImage(scale=0.2, nx=53, ny=53)\n",
    "\n",
    "    # now we are going to add noise to the object image and setup the ngmix data\n",
    "    cen = (53 - 1) / 2\n",
    "    nse_sd = pixel_noise_std\n",
    "    nse = rng.normal(size=obj_im.array.shape, scale=nse_sd)\n",
    "    nse_im = rng.normal(size=obj_im.array.shape, scale=nse_sd)\n",
    "    \n",
    "    jac = ngmix.jacobian.DiagonalJacobian(scale=0.2,\n",
    "                                          row=cen + dy / 0.2,\n",
    "                                          col=cen + dx / 0.2)\n",
    "    psf_jac = ngmix.jacobian.DiagonalJacobian(scale=0.2, row=cen, col=cen)\n",
    "\n",
    "    # Transformation between pixel and tangent uv coordinate. It has off diag terms if CCD is rotated.\n",
    "    # in real data we care about off diag terms \n",
    "\n",
    "    # we have to add a little noise to the PSf to make things stable\n",
    "    target_psf_s2n = 500.0\n",
    "    target_psf_noise = np.sqrt(np.sum(psf_im.array**2)) / target_psf_s2n\n",
    "\n",
    "    psf_obs = ngmix.Observation(\n",
    "        image=psf_im.array,\n",
    "        weight=np.ones_like(psf_im.array) / target_psf_noise**2,\n",
    "        jacobian=psf_jac,\n",
    "    )\n",
    "\n",
    "    # here we build the final observation\n",
    "    obj_obs = ngmix.Observation(\n",
    "        image=obj_im.array + nse,\n",
    "        noise=nse_im,\n",
    "        weight=np.ones_like(nse_im) / nse_sd**2,\n",
    "        jacobian=psf_jac,\n",
    "        bmask=np.zeros_like(nse_im, dtype=np.int32),\n",
    "        ormask=np.zeros_like(nse_im, dtype=np.int32),\n",
    "        psf=psf_obs,\n",
    "    )\n",
    "\n",
    "    return obj_obs"
   ]
  },
  {
   "cell_type": "code",
   "execution_count": 67,
   "metadata": {},
   "outputs": [],
   "source": [
    "obs_list_pixel_noise = []\n",
    "obs_list_shape_noise = []\n",
    "\n",
    "pixel_noise_std_range = 10**np.linspace(-8,-3,10)\n",
    "shape_noise_std_range = 10**np.linspace(-8,-1,10)"
   ]
  },
  {
   "cell_type": "code",
   "execution_count": 68,
   "metadata": {},
   "outputs": [
    {
     "name": "stdout",
     "output_type": "stream",
     "text": [
      "[1.00000000e-08 3.59381366e-08 1.29154967e-07 4.64158883e-07\n",
      " 1.66810054e-06 5.99484250e-06 2.15443469e-05 7.74263683e-05\n",
      " 2.78255940e-04 1.00000000e-03]\n",
      "[1.00000000e-08 5.99484250e-08 3.59381366e-07 2.15443469e-06\n",
      " 1.29154967e-05 7.74263683e-05 4.64158883e-04 2.78255940e-03\n",
      " 1.66810054e-02 1.00000000e-01]\n"
     ]
    }
   ],
   "source": [
    "print(pixel_noise_std_range)\n",
    "print(shape_noise_std_range)"
   ]
  },
  {
   "cell_type": "code",
   "execution_count": 46,
   "metadata": {},
   "outputs": [],
   "source": [
    "# do your work here!\n",
    "import mdet_meas_tools as mmt"
   ]
  },
  {
   "cell_type": "code",
   "execution_count": 57,
   "metadata": {},
   "outputs": [
    {
     "name": "stderr",
     "output_type": "stream",
     "text": [
      "                                       "
     ]
    },
    {
     "name": "stdout",
     "output_type": "stream",
     "text": [
      "    # of sims: 10\n",
      "    noise cancel m   :  0.378416 +/-  0.001212 [1e-3, 3-sigma]\n",
      "    noise cancel c   :  0.002399 +/-  0.021011 [1e-5, 3-sigma]\n"
     ]
    },
    {
     "name": "stderr",
     "output_type": "stream",
     "text": [
      "                                       "
     ]
    },
    {
     "name": "stdout",
     "output_type": "stream",
     "text": [
      "    # of sims: 10\n",
      "    noise cancel m   :  0.378484 +/-  0.004236 [1e-3, 3-sigma]\n",
      "    noise cancel c   :  0.009726 +/-  0.075693 [1e-5, 3-sigma]\n"
     ]
    },
    {
     "name": "stderr",
     "output_type": "stream",
     "text": [
      "                                       "
     ]
    },
    {
     "name": "stdout",
     "output_type": "stream",
     "text": [
      "    # of sims: 10\n",
      "    noise cancel m   :  0.378731 +/-  0.015123 [1e-3, 3-sigma]\n",
      "    noise cancel c   :  0.036049 +/-  0.272257 [1e-5, 3-sigma]\n"
     ]
    },
    {
     "name": "stderr",
     "output_type": "stream",
     "text": [
      "                                       "
     ]
    },
    {
     "name": "stdout",
     "output_type": "stream",
     "text": [
      "    # of sims: 10\n",
      "    noise cancel m   :  0.379617 +/-  0.054281 [1e-3, 3-sigma]\n",
      "    noise cancel c   :  0.130530 +/-  0.978900 [1e-5, 3-sigma]\n"
     ]
    },
    {
     "name": "stderr",
     "output_type": "stream",
     "text": [
      "                                       "
     ]
    },
    {
     "name": "stdout",
     "output_type": "stream",
     "text": [
      "    # of sims: 10\n",
      "    noise cancel m   :  0.382791 +/-  0.195124 [1e-3, 3-sigma]\n",
      "    noise cancel c   :  0.470176 +/-  3.521653 [1e-5, 3-sigma]\n"
     ]
    },
    {
     "name": "stderr",
     "output_type": "stream",
     "text": [
      "                                       "
     ]
    },
    {
     "name": "stdout",
     "output_type": "stream",
     "text": [
      "    # of sims: 10\n",
      "    noise cancel m   :  0.393955 +/-  0.699643 [1e-3, 3-sigma]\n",
      "    noise cancel c   :  1.688049 +/-  12.676982 [1e-5, 3-sigma]\n"
     ]
    },
    {
     "name": "stderr",
     "output_type": "stream",
     "text": [
      "                                       "
     ]
    },
    {
     "name": "stdout",
     "output_type": "stream",
     "text": [
      "    # of sims: 10\n",
      "    noise cancel m   :  0.450572 +/-  2.547654 [1e-3, 3-sigma]\n",
      "    noise cancel c   :  6.194707 +/-  45.441774 [1e-5, 3-sigma]\n"
     ]
    },
    {
     "name": "stderr",
     "output_type": "stream",
     "text": [
      "                                       "
     ]
    },
    {
     "name": "stdout",
     "output_type": "stream",
     "text": [
      "    # of sims: 10\n",
      "    noise cancel m   :  0.534613 +/-  9.003520 [1e-3, 3-sigma]\n",
      "    noise cancel c   :  23.573270 +/-  163.203891 [1e-5, 3-sigma]\n"
     ]
    },
    {
     "name": "stderr",
     "output_type": "stream",
     "text": [
      "                                       "
     ]
    },
    {
     "name": "stdout",
     "output_type": "stream",
     "text": [
      "    # of sims: 10\n",
      "    noise cancel m   : -0.000710 +/-  32.427355 [1e-3, 3-sigma]\n",
      "    noise cancel c   :  94.610207 +/-  581.897211 [1e-5, 3-sigma]\n"
     ]
    },
    {
     "name": "stderr",
     "output_type": "stream",
     "text": [
      "                                       "
     ]
    },
    {
     "name": "stdout",
     "output_type": "stream",
     "text": [
      "    # of sims: 10\n",
      "    noise cancel m   :  6.796874 +/-  101.809237 [1e-3, 3-sigma]\n",
      "    noise cancel c   :  395.194165 +/-  2125.002130 [1e-5, 3-sigma]\n"
     ]
    },
    {
     "name": "stderr",
     "output_type": "stream",
     "text": [
      "                                       \r"
     ]
    }
   ],
   "source": [
    "pixel_noise_std_list = []\n",
    "for pixel_noise_std_ in pixel_noise_std_range:\n",
    "    pdata,mdata, m, msd, c, csd  = mmt.run_mdet_sims(sim_func=sim_func,sim_kwargs={'psf_fwhm':0.8, 'pixel_noise_std':pixel_noise_std_,'shape_noise_std':0},seed=123,n_sims=10)\n",
    "    pixel_noise_std_list.append((msd,csd))\n",
    "    res = mmt.estimate_m_and_c(pdata,mdata)"
   ]
  },
  {
   "cell_type": "code",
   "execution_count": 69,
   "metadata": {},
   "outputs": [
    {
     "name": "stdout",
     "output_type": "stream",
     "text": [
      "1e-08\n"
     ]
    },
    {
     "name": "stderr",
     "output_type": "stream",
     "text": [
      "                                       "
     ]
    },
    {
     "name": "stdout",
     "output_type": "stream",
     "text": [
      "    # of sims: 10\n",
      "    noise cancel m   :  0.362294 +/-  1.138224 [1e-3, 3-sigma]\n",
      "    noise cancel c   :  0.777041 +/-  24.014557 [1e-5, 3-sigma]\n"
     ]
    },
    {
     "name": "stderr",
     "output_type": "stream",
     "text": [
      "                                       \r"
     ]
    },
    {
     "name": "stdout",
     "output_type": "stream",
     "text": [
      "5.99484250318941e-08\n"
     ]
    },
    {
     "name": "stderr",
     "output_type": "stream",
     "text": [
      "                                       "
     ]
    },
    {
     "name": "stdout",
     "output_type": "stream",
     "text": [
      "    # of sims: 10\n",
      "    noise cancel m   :  0.362689 +/-  1.137899 [1e-3, 3-sigma]\n",
      "    noise cancel c   :  0.777068 +/-  24.014458 [1e-5, 3-sigma]\n"
     ]
    },
    {
     "name": "stderr",
     "output_type": "stream",
     "text": [
      "                                       \r"
     ]
    },
    {
     "name": "stdout",
     "output_type": "stream",
     "text": [
      "3.5938136638046254e-07\n"
     ]
    },
    {
     "name": "stderr",
     "output_type": "stream",
     "text": [
      "                                       "
     ]
    },
    {
     "name": "stdout",
     "output_type": "stream",
     "text": [
      "    # of sims: 10\n",
      "    noise cancel m   :  0.362517 +/-  1.138016 [1e-3, 3-sigma]\n",
      "    noise cancel c   :  0.777060 +/-  24.014603 [1e-5, 3-sigma]\n"
     ]
    },
    {
     "name": "stderr",
     "output_type": "stream",
     "text": [
      "                                       \r"
     ]
    },
    {
     "name": "stdout",
     "output_type": "stream",
     "text": [
      "2.1544346900318865e-06\n"
     ]
    },
    {
     "name": "stderr",
     "output_type": "stream",
     "text": [
      "                                       "
     ]
    },
    {
     "name": "stdout",
     "output_type": "stream",
     "text": [
      "    # of sims: 10\n",
      "    noise cancel m   :  0.361766 +/-  1.138481 [1e-3, 3-sigma]\n",
      "    noise cancel c   :  0.777192 +/-  24.014539 [1e-5, 3-sigma]\n"
     ]
    },
    {
     "name": "stderr",
     "output_type": "stream",
     "text": [
      "                                       \r"
     ]
    },
    {
     "name": "stdout",
     "output_type": "stream",
     "text": [
      "1.2915496650148827e-05\n"
     ]
    },
    {
     "name": "stderr",
     "output_type": "stream",
     "text": [
      "                                       "
     ]
    },
    {
     "name": "stdout",
     "output_type": "stream",
     "text": [
      "    # of sims: 10\n",
      "    noise cancel m   :  0.362308 +/-  1.138224 [1e-3, 3-sigma]\n",
      "    noise cancel c   :  0.777160 +/-  24.014582 [1e-5, 3-sigma]\n"
     ]
    },
    {
     "name": "stderr",
     "output_type": "stream",
     "text": [
      "                                       \r"
     ]
    },
    {
     "name": "stdout",
     "output_type": "stream",
     "text": [
      "7.742636826811278e-05\n"
     ]
    },
    {
     "name": "stderr",
     "output_type": "stream",
     "text": [
      "                                       "
     ]
    },
    {
     "name": "stdout",
     "output_type": "stream",
     "text": [
      "    # of sims: 10\n",
      "    noise cancel m   :  0.361847 +/-  1.138111 [1e-3, 3-sigma]\n",
      "    noise cancel c   :  0.777984 +/-  24.015800 [1e-5, 3-sigma]\n"
     ]
    },
    {
     "name": "stderr",
     "output_type": "stream",
     "text": [
      "                                       \r"
     ]
    },
    {
     "name": "stdout",
     "output_type": "stream",
     "text": [
      "0.0004641588833612782\n"
     ]
    },
    {
     "name": "stderr",
     "output_type": "stream",
     "text": [
      "                                       "
     ]
    },
    {
     "name": "stdout",
     "output_type": "stream",
     "text": [
      "    # of sims: 10\n",
      "    noise cancel m   :  0.359824 +/-  1.137251 [1e-3, 3-sigma]\n",
      "    noise cancel c   :  0.776525 +/-  24.017202 [1e-5, 3-sigma]\n"
     ]
    },
    {
     "name": "stderr",
     "output_type": "stream",
     "text": [
      "                                       \r"
     ]
    },
    {
     "name": "stdout",
     "output_type": "stream",
     "text": [
      "0.0027825594022071257\n"
     ]
    },
    {
     "name": "stderr",
     "output_type": "stream",
     "text": [
      "                                       "
     ]
    },
    {
     "name": "stdout",
     "output_type": "stream",
     "text": [
      "    # of sims: 10\n",
      "    noise cancel m   :  0.359210 +/-  1.134633 [1e-3, 3-sigma]\n",
      "    noise cancel c   :  0.777513 +/-  24.021662 [1e-5, 3-sigma]\n"
     ]
    },
    {
     "name": "stderr",
     "output_type": "stream",
     "text": [
      "                                       \r"
     ]
    },
    {
     "name": "stdout",
     "output_type": "stream",
     "text": [
      "0.016681005372000592\n"
     ]
    },
    {
     "name": "stderr",
     "output_type": "stream",
     "text": [
      "                                       "
     ]
    },
    {
     "name": "stdout",
     "output_type": "stream",
     "text": [
      "    # of sims: 10\n",
      "    noise cancel m   :  0.355295 +/-  1.133445 [1e-3, 3-sigma]\n",
      "    noise cancel c   :  0.794496 +/-  24.109023 [1e-5, 3-sigma]\n"
     ]
    },
    {
     "name": "stderr",
     "output_type": "stream",
     "text": [
      "                                       \r"
     ]
    },
    {
     "name": "stdout",
     "output_type": "stream",
     "text": [
      "0.1\n"
     ]
    },
    {
     "name": "stderr",
     "output_type": "stream",
     "text": [
      "                                       "
     ]
    },
    {
     "name": "stdout",
     "output_type": "stream",
     "text": [
      "    # of sims: 10\n",
      "    noise cancel m   :  0.335823 +/-  1.163018 [1e-3, 3-sigma]\n",
      "    noise cancel c   :  1.039922 +/-  25.548947 [1e-5, 3-sigma]\n"
     ]
    },
    {
     "name": "stderr",
     "output_type": "stream",
     "text": [
      "                                       \r"
     ]
    }
   ],
   "source": [
    "shape_noise_std_list = []\n",
    "for shape_noise_std_ in shape_noise_std_range:\n",
    "    print(shape_noise_std_)\n",
    "    pdata,mdata, m, msd, c, csd  = mmt.run_mdet_sims(sim_func=sim_func,sim_kwargs={'psf_fwhm':0.8, 'pixel_noise_std':1e-5,'shape_noise_std':shape_noise_std_},seed=123,n_sims=10)\n",
    "    shape_noise_std_list.append((msd,csd))\n",
    "    res = mmt.estimate_m_and_c(pdata,mdata)"
   ]
  },
  {
   "cell_type": "code",
   "execution_count": 84,
   "metadata": {},
   "outputs": [],
   "source": [
    "def plot_m_and_c(pixel_noise_std_list,shape_noise_std_list):\n",
    "    import matplotlib.pyplot as plt\n",
    "    plt.figure(figsize=(10,10))\n",
    "    plt.subplot(2,2,1)\n",
    "    plt.plot(pixel_noise_std_range,[i[0] for i in pixel_noise_std_list])\n",
    "    plt.xlabel('pixel noise std')\n",
    "    plt.ylabel('std of m [1e-3]')\n",
    "    plt.xscale('log')\n",
    "    plt.yscale('log')\n",
    "    plt.subplot(2,2,2)\n",
    "    plt.plot(pixel_noise_std_range,[i[1] for i in pixel_noise_std_list])\n",
    "    plt.xlabel('pixel noise std')\n",
    "    plt.xscale('log')\n",
    "    plt.yscale('log')\n",
    "    plt.ylabel('std of c [1e-5]')\n",
    "    plt.subplot(2,2,3)\n",
    "    plt.plot(shape_noise_std_range,[i[0] for i in shape_noise_std_list])\n",
    "    plt.xlabel('shape noise std')\n",
    "    plt.ylabel('std of m [1e-3]')\n",
    "    plt.subplot(2,2,4)\n",
    "    plt.plot(shape_noise_std_range,[i[1] for i in shape_noise_std_list])\n",
    "    plt.xlabel('shape noise std')\n",
    "    plt.ylabel('std of c [1e-5]')\n",
    "    plt.show()"
   ]
  },
  {
   "cell_type": "code",
   "execution_count": 85,
   "metadata": {},
   "outputs": [
    {
     "data": {
      "image/png": "[encoded data removed]",
      "text/plain": [
       "<Figure size 1000x1000 with 4 Axes>"
      ]
     },
     "metadata": {},
     "output_type": "display_data"
    }
   ],
   "source": [
    "plot_m_and_c(pixel_noise_std_list,shape_noise_std_list)"
   ]
  }
 ],
 "metadata": {
  "kernelspec": {
   "display_name": "Python 3.9.7 64-bit ('lsst_shear')",
   "language": "python",
   "name": "python3"
  },
  "language_info": {
   "codemirror_mode": {
    "name": "ipython",
    "version": 3
   },
   "file_extension": ".py",
   "mimetype": "text/x-python",
   "name": "python",
   "nbconvert_exporter": "python",
   "pygments_lexer": "ipython3",
   "version": "3.10.6"
  },
  "orig_nbformat": 4,
  "vscode": {
   "interpreter": {
    "hash": "f5ae0e233e6828920522b71e90b2e7bb870e1722e4714eb72e24c9e4386a1d19"
   }
  }
 },
 "nbformat": 4,
 "nbformat_minor": 2
}
